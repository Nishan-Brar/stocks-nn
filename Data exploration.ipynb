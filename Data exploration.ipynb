{
 "cells": [
  {
   "cell_type": "markdown",
   "metadata": {},
   "source": [
    "# Import modules"
   ]
  },
  {
   "cell_type": "code",
   "execution_count": null,
   "metadata": {
    "ExecuteTime": {
     "end_time": "2023-06-21T08:57:45.491698Z",
     "start_time": "2023-06-21T08:57:43.350344Z"
    }
   },
   "outputs": [],
   "source": [
    "import matplotlib.pyplot as plt\n",
    "import seaborn as sns\n",
    "import datetime as dt\n",
    "\n",
    "import pandas as pd\n",
    "import numpy as np\n",
    "\n",
    "from tqdm.notebook import tqdm\n",
    "import os\n",
    "from sklearn.metrics import r2_score\n",
    "from sklearn.preprocessing import PolynomialFeatures\n",
    "from sklearn.linear_model import LinearRegression"
   ]
  },
  {
   "cell_type": "markdown",
   "metadata": {},
   "source": [
    "# Import data"
   ]
  },
  {
   "cell_type": "code",
   "execution_count": null,
   "metadata": {
    "ExecuteTime": {
     "end_time": "2023-06-21T08:57:45.867955Z",
     "start_time": "2023-06-21T08:57:45.494919Z"
    }
   },
   "outputs": [],
   "source": [
    "data = pd.read_csv(\"data/price.csv\")\n",
    "data[\"Date\"] = pd.to_datetime(data[\"Date\"])\n",
    "data = data.set_index(\"Date\")\n",
    "\n",
    "# make column names lower case as some features have the same names as stocks\n",
    "data.columns = data.columns.str.lower()\n",
    "data=(data-data.mean())/data.std()\n",
    "data"
   ]
  },
  {
   "cell_type": "code",
   "execution_count": null,
   "metadata": {
    "ExecuteTime": {
     "end_time": "2023-06-21T08:57:45.870952Z",
     "start_time": "2023-06-21T08:57:45.870952Z"
    }
   },
   "outputs": [],
   "source": [
    "cats = pd.read_csv(\"data/categorical.csv\")\n",
    "cats = cats.set_index(\"Unnamed: 0\")\n",
    "cats = cats.rename_axis(None, axis = 0)\n",
    "cats"
   ]
  },
  {
   "cell_type": "code",
   "execution_count": null,
   "metadata": {
    "ExecuteTime": {
     "end_time": "2023-06-21T08:57:45.871952Z",
     "start_time": "2023-06-21T08:57:45.871952Z"
    }
   },
   "outputs": [],
   "source": [
    "features = pd.read_csv(\"data/features.csv\")\n",
    "features[\"Date\"] = pd.to_datetime(features[\"Date\"])\n",
    "features = features.set_index(\"Date\")\n",
    "\n",
    "# Subtract 1 year from index of features since we want to see the correlation between price the feature 1 year ago\n",
    "features.index = [index - dt.timedelta(days=365) for index in features.index]\n",
    "features"
   ]
  },
  {
   "cell_type": "code",
   "execution_count": null,
   "metadata": {
    "ExecuteTime": {
     "end_time": "2023-06-21T08:57:45.874495Z",
     "start_time": "2023-06-21T08:57:45.874495Z"
    }
   },
   "outputs": [],
   "source": [
    "try:\n",
    "    os.makedirs(\"Data exploration\")\n",
    "except FileExistsError:\n",
    "    pass"
   ]
  },
  {
   "cell_type": "markdown",
   "metadata": {},
   "source": [
    "# R2 scores"
   ]
  },
  {
   "cell_type": "code",
   "execution_count": null,
   "metadata": {
    "ExecuteTime": {
     "end_time": "2023-06-21T08:57:45.874495Z",
     "start_time": "2023-06-21T08:57:45.874495Z"
    },
    "scrolled": false
   },
   "outputs": [],
   "source": [
    "MAX_DEGREE = 5\n",
    "\n",
    "# Create column names for dataframe\n",
    "column_names = [\"features\"]\n",
    "for degree in range(1,MAX_DEGREE+1):\n",
    "    column_names.append(f\"r2_d{degree}\")\n",
    "\n",
    "r2_table = []\n",
    "features_tqdm = tqdm(features.columns, total=len(features.columns), desc=\"R2 for features\")\n",
    "for feature in features_tqdm:\n",
    "    combined = pd.concat([features[[feature]], data], axis=\"columns\", join=\"inner\")\n",
    "    combined = combined.melt(feature).dropna()\n",
    "\n",
    "    # Get r2 using different degree polynomials\n",
    "    row = [feature]\n",
    "    poly_preds = []\n",
    "    for degree in range(1,MAX_DEGREE+1):\n",
    "        coefs = np.polyfit(combined[feature], combined[\"value\"], deg=degree)\n",
    "        predict = np.poly1d(coefs)\n",
    "        preds = predict(combined[feature])\n",
    "        poly_preds.append(preds)\n",
    "\n",
    "        r2 = r2_score(combined[\"value\"], preds)\n",
    "        row.append(r2)\n",
    "    r2_table.append(row)\n",
    "\n",
    "\n",
    "r2_df = pd.DataFrame(r2_table, columns=column_names).sort_values(\"r2_d2\", ascending = False)\n",
    "r2_df.to_csv(\"Data exploration/r2 scores.csv\")\n",
    "r2_df"
   ]
  },
  {
   "cell_type": "markdown",
   "metadata": {},
   "source": [
    "# Line plots"
   ]
  },
  {
   "cell_type": "code",
   "execution_count": null,
   "metadata": {
    "ExecuteTime": {
     "end_time": "2023-06-21T08:57:45.875934Z",
     "start_time": "2023-06-21T08:57:45.875934Z"
    }
   },
   "outputs": [],
   "source": [
    "for feature in features:\n",
    "    plt.figure(figsize=(10,6))\n",
    "    sns.lineplot(data=features, x=features.index, y=feature)\n",
    "    plt.show()"
   ]
  },
  {
   "cell_type": "markdown",
   "metadata": {},
   "source": [
    "# Facet grid"
   ]
  },
  {
   "cell_type": "code",
   "execution_count": null,
   "metadata": {
    "ExecuteTime": {
     "end_time": "2023-06-21T08:57:45.878362Z",
     "start_time": "2023-06-21T08:57:45.878362Z"
    }
   },
   "outputs": [],
   "source": [
    "MAX_DEGREE = 5\n",
    "\n",
    "features_tqdm = tqdm(features.columns, total=len(features.columns), desc=\"Plots & r2 for features\")\n",
    "for feature in features_tqdm:\n",
    "    path = f\"Data exploration/Stock price against {feature} (facet grid).jpg\"\n",
    "    if not os.path.exists(path):\n",
    "        plt.figure(figsize=(10,6),dpi=200)\n",
    "        combined = pd.concat([features[[feature]], data], axis=\"columns\")\n",
    "        combined = combined.melt(feature).dropna()\n",
    "\n",
    "        sectors = np.zeros(len(combined), dtype=\"object\")\n",
    "        var_tqdm = tqdm(enumerate(combined[\"variable\"]), total=len(combined[\"variable\"]), desc=f\"Getting sectors for feature: {feature}\")\n",
    "        for i, ticker in var_tqdm:\n",
    "            sectors[i] = cats[ticker.upper()][0]\n",
    "        combined[\"sector\"] = sectors\n",
    "\n",
    "        g = sns.FacetGrid(data=combined, row=\"sector\", sharey=False, height=4, aspect=2)\n",
    "        g.map(sns.regplot, feature, \"value\", scatter=True, fit_reg=True, x_ci=None, ci=None, scatter_kws={\"alpha\":0.1, \"s\":20}, line_kws={\"color\": \"red\", \"linewidth\":3})\n",
    "\n",
    "        print(\"Saving plot\")\n",
    "        plt.savefig(path,\n",
    "                    bbox_inches='tight',\n",
    "                    dpi = 300);\n",
    "        print(\"Plot saved\")\n",
    "\n",
    "        plt.close(\"all\")"
   ]
  },
  {
   "cell_type": "markdown",
   "metadata": {},
   "source": [
    "# Correlation matrix between features"
   ]
  },
  {
   "cell_type": "code",
   "execution_count": null,
   "metadata": {
    "ExecuteTime": {
     "end_time": "2023-06-21T08:57:45.880369Z",
     "start_time": "2023-06-21T08:57:45.880369Z"
    }
   },
   "outputs": [],
   "source": [
    "def plot_correlation_matrix_of_df(df, columns_order, annot = True):\n",
    "    '''Uses the seaborn heatmap to plot the correlation matrix of a pandas dataframe'''\n",
    "    # Sort columns based on column column name\n",
    "    df = df[columns_order]\n",
    "\n",
    "    # Calculate correlation matrix\n",
    "    corrs = df.corr().round(2)\n",
    "    \n",
    "    # Since this is a symmetric table, set up a mask so that we only plot values below the main diagonal.\n",
    "    mask = np.triu(np.ones_like(corrs, dtype=np.bool))\n",
    "    f, ax = plt.subplots(figsize=(10, 8)) # Initialise the plots and axes\n",
    "\n",
    "    # Plot the correlations as a seaborn heatmap, with a colourbar.\n",
    "    sns.heatmap(corrs, mask=mask, center=0, annot=annot, square=True, linewidths=.5, cmap=\"seismic\", vmin = -1, vmax = 1)"
   ]
  },
  {
   "cell_type": "code",
   "execution_count": null,
   "metadata": {
    "ExecuteTime": {
     "end_time": "2023-06-21T08:57:45.882845Z",
     "start_time": "2023-06-21T08:57:45.882845Z"
    }
   },
   "outputs": [],
   "source": [
    "column_order = r2_df.set_index(\"features\")[\"r2_d2\"].sort_values(ascending=False).index\n",
    "plot_correlation_matrix_of_df(features, column_order,annot = True)"
   ]
  }
 ],
 "metadata": {
  "kernelspec": {
   "display_name": "Python 3 (ipykernel)",
   "language": "python",
   "name": "python3"
  },
  "language_info": {
   "codemirror_mode": {
    "name": "ipython",
    "version": 3
   },
   "file_extension": ".py",
   "mimetype": "text/x-python",
   "name": "python",
   "nbconvert_exporter": "python",
   "pygments_lexer": "ipython3",
   "version": "3.9.13"
  },
  "toc": {
   "base_numbering": 1,
   "nav_menu": {},
   "number_sections": false,
   "sideBar": true,
   "skip_h1_title": false,
   "title_cell": "Table of Contents",
   "title_sidebar": "Contents",
   "toc_cell": false,
   "toc_position": {},
   "toc_section_display": true,
   "toc_window_display": false
  }
 },
 "nbformat": 4,
 "nbformat_minor": 1
}
